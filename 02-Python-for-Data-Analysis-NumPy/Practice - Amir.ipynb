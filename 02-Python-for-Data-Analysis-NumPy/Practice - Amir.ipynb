{
 "cells": [
  {
   "cell_type": "code",
   "execution_count": 1,
   "id": "6d478f1f",
   "metadata": {},
   "outputs": [],
   "source": [
    "import numpy as np"
   ]
  },
  {
   "cell_type": "code",
   "execution_count": 11,
   "id": "57356c26",
   "metadata": {},
   "outputs": [],
   "source": [
    "arr_2d = np.arange(25)"
   ]
  },
  {
   "cell_type": "code",
   "execution_count": 12,
   "id": "66d9e496",
   "metadata": {},
   "outputs": [
    {
     "data": {
      "text/plain": [
       "array([ 0,  1,  2,  3,  4,  5,  6,  7,  8,  9, 10, 11, 12, 13, 14, 15, 16,\n",
       "       17, 18, 19, 20, 21, 22, 23, 24])"
      ]
     },
     "execution_count": 12,
     "metadata": {},
     "output_type": "execute_result"
    }
   ],
   "source": [
    "arr_2d"
   ]
  },
  {
   "cell_type": "code",
   "execution_count": 13,
   "id": "3c9fdf35",
   "metadata": {},
   "outputs": [
    {
     "data": {
      "text/plain": [
       "dtype('int32')"
      ]
     },
     "execution_count": 13,
     "metadata": {},
     "output_type": "execute_result"
    }
   ],
   "source": [
    "arr_2d.dtype"
   ]
  },
  {
   "cell_type": "code",
   "execution_count": 14,
   "id": "5301d579",
   "metadata": {},
   "outputs": [
    {
     "data": {
      "text/plain": [
       "(25,)"
      ]
     },
     "execution_count": 14,
     "metadata": {},
     "output_type": "execute_result"
    }
   ],
   "source": [
    "arr_2d.shape"
   ]
  },
  {
   "cell_type": "code",
   "execution_count": 35,
   "id": "e344144e",
   "metadata": {},
   "outputs": [],
   "source": [
    "new = arr_2d.reshape(5,5)"
   ]
  },
  {
   "cell_type": "code",
   "execution_count": 17,
   "id": "63b4f7d7",
   "metadata": {},
   "outputs": [
    {
     "data": {
      "text/plain": [
       "0"
      ]
     },
     "execution_count": 17,
     "metadata": {},
     "output_type": "execute_result"
    }
   ],
   "source": []
  },
  {
   "cell_type": "code",
   "execution_count": 36,
   "id": "0e98a246",
   "metadata": {},
   "outputs": [
    {
     "data": {
      "text/plain": [
       "(5, 5)"
      ]
     },
     "execution_count": 36,
     "metadata": {},
     "output_type": "execute_result"
    }
   ],
   "source": [
    "new.shape"
   ]
  },
  {
   "cell_type": "code",
   "execution_count": 37,
   "id": "48ad6878",
   "metadata": {},
   "outputs": [
    {
     "data": {
      "text/plain": [
       "array([[ 0,  1, 22, 22, 22],\n",
       "       [ 5,  6, 22, 22, 22],\n",
       "       [10, 11, 12, 13, 14],\n",
       "       [15, 16, 17, 18, 19],\n",
       "       [20, 21, 22, 23, 24]])"
      ]
     },
     "execution_count": 37,
     "metadata": {},
     "output_type": "execute_result"
    }
   ],
   "source": [
    "new"
   ]
  },
  {
   "cell_type": "code",
   "execution_count": 38,
   "id": "9608c5ab",
   "metadata": {},
   "outputs": [
    {
     "data": {
      "text/plain": [
       "12"
      ]
     },
     "execution_count": 38,
     "metadata": {},
     "output_type": "execute_result"
    }
   ],
   "source": [
    "new[2,2]"
   ]
  },
  {
   "cell_type": "code",
   "execution_count": 46,
   "id": "a32f789f",
   "metadata": {},
   "outputs": [],
   "source": [
    "new[:2,2:] = [3,4,5],[7,8,9]"
   ]
  },
  {
   "cell_type": "code",
   "execution_count": 41,
   "id": "86c16e26",
   "metadata": {},
   "outputs": [
    {
     "data": {
      "text/plain": [
       "array([[ 0,  1,  3,  4,  5],\n",
       "       [ 5,  6,  7,  8,  9],\n",
       "       [10, 11, 12, 13, 14],\n",
       "       [15, 16, 17, 18, 19],\n",
       "       [20, 21, 22, 23, 24]])"
      ]
     },
     "execution_count": 41,
     "metadata": {},
     "output_type": "execute_result"
    }
   ],
   "source": [
    "new"
   ]
  },
  {
   "cell_type": "code",
   "execution_count": 43,
   "id": "f5d10438",
   "metadata": {},
   "outputs": [],
   "source": [
    "new[:2, 2:] = 22"
   ]
  },
  {
   "cell_type": "code",
   "execution_count": 47,
   "id": "12c8b647",
   "metadata": {},
   "outputs": [
    {
     "data": {
      "text/plain": [
       "array([[ 0,  1,  3,  4,  5],\n",
       "       [ 5,  6,  7,  8,  9],\n",
       "       [10, 11, 12, 13, 14],\n",
       "       [15, 16, 17, 18, 19],\n",
       "       [20, 21, 22, 23, 24]])"
      ]
     },
     "execution_count": 47,
     "metadata": {},
     "output_type": "execute_result"
    }
   ],
   "source": [
    "new"
   ]
  },
  {
   "cell_type": "code",
   "execution_count": 55,
   "id": "c85c2613",
   "metadata": {},
   "outputs": [],
   "source": [
    "arr_n = new[new>14]"
   ]
  },
  {
   "cell_type": "code",
   "execution_count": 56,
   "id": "e7a32983",
   "metadata": {},
   "outputs": [
    {
     "data": {
      "text/plain": [
       "array([15, 16, 17, 18, 19, 20, 21, 22, 23, 24])"
      ]
     },
     "execution_count": 56,
     "metadata": {},
     "output_type": "execute_result"
    }
   ],
   "source": [
    "arr_n"
   ]
  },
  {
   "cell_type": "code",
   "execution_count": 57,
   "id": "f5253d4f",
   "metadata": {},
   "outputs": [
    {
     "data": {
      "text/plain": [
       "(10,)"
      ]
     },
     "execution_count": 57,
     "metadata": {},
     "output_type": "execute_result"
    }
   ],
   "source": [
    "arr_n.shape"
   ]
  },
  {
   "cell_type": "code",
   "execution_count": 62,
   "id": "1958a54e",
   "metadata": {},
   "outputs": [],
   "source": [
    "arr_2dn = arr_n.reshape(5,2)"
   ]
  },
  {
   "cell_type": "code",
   "execution_count": 65,
   "id": "94cee2e0",
   "metadata": {},
   "outputs": [
    {
     "data": {
      "text/plain": [
       "(5, 2)"
      ]
     },
     "execution_count": 65,
     "metadata": {},
     "output_type": "execute_result"
    }
   ],
   "source": [
    "arr_2dn.shape"
   ]
  },
  {
   "cell_type": "code",
   "execution_count": 66,
   "id": "f4ee0dd2",
   "metadata": {},
   "outputs": [
    {
     "data": {
      "text/plain": [
       "array([[15, 16],\n",
       "       [17, 18],\n",
       "       [19, 20],\n",
       "       [21, 22],\n",
       "       [23, 24]])"
      ]
     },
     "execution_count": 66,
     "metadata": {},
     "output_type": "execute_result"
    }
   ],
   "source": [
    "arr_2dn"
   ]
  },
  {
   "cell_type": "code",
   "execution_count": 67,
   "id": "82861995",
   "metadata": {},
   "outputs": [],
   "source": [
    "bool_arr = arr_2dn > 20"
   ]
  },
  {
   "cell_type": "code",
   "execution_count": 69,
   "id": "67f4c4e1",
   "metadata": {},
   "outputs": [],
   "source": [
    "fals_bool_arr = bool_arr == False"
   ]
  },
  {
   "cell_type": "code",
   "execution_count": 70,
   "id": "21c4ec7c",
   "metadata": {},
   "outputs": [
    {
     "data": {
      "text/plain": [
       "array([[ True,  True],\n",
       "       [ True,  True],\n",
       "       [ True,  True],\n",
       "       [False, False],\n",
       "       [False, False]])"
      ]
     },
     "execution_count": 70,
     "metadata": {},
     "output_type": "execute_result"
    }
   ],
   "source": [
    "fals_bool_arr"
   ]
  },
  {
   "cell_type": "code",
   "execution_count": 71,
   "id": "7967e87f",
   "metadata": {},
   "outputs": [
    {
     "data": {
      "text/plain": [
       "array([[False, False],\n",
       "       [False, False],\n",
       "       [False, False],\n",
       "       [ True,  True],\n",
       "       [ True,  True]])"
      ]
     },
     "execution_count": 71,
     "metadata": {},
     "output_type": "execute_result"
    }
   ],
   "source": [
    "bool_arr"
   ]
  },
  {
   "cell_type": "code",
   "execution_count": 72,
   "id": "4ac82fbc",
   "metadata": {},
   "outputs": [],
   "source": [
    "new_array = np.arange(50).reshape(5,10)"
   ]
  },
  {
   "cell_type": "code",
   "execution_count": 73,
   "id": "4bffc524",
   "metadata": {},
   "outputs": [
    {
     "data": {
      "text/plain": [
       "array([[ 0,  1,  2,  3,  4,  5,  6,  7,  8,  9],\n",
       "       [10, 11, 12, 13, 14, 15, 16, 17, 18, 19],\n",
       "       [20, 21, 22, 23, 24, 25, 26, 27, 28, 29],\n",
       "       [30, 31, 32, 33, 34, 35, 36, 37, 38, 39],\n",
       "       [40, 41, 42, 43, 44, 45, 46, 47, 48, 49]])"
      ]
     },
     "execution_count": 73,
     "metadata": {},
     "output_type": "execute_result"
    }
   ],
   "source": []
  },
  {
   "cell_type": "code",
   "execution_count": 76,
   "id": "4b2b4872",
   "metadata": {},
   "outputs": [],
   "source": [
    "new_new_array = [new_array > 20]"
   ]
  },
  {
   "cell_type": "code",
   "execution_count": 78,
   "id": "f11aa6b9",
   "metadata": {},
   "outputs": [
    {
     "data": {
      "text/plain": [
       "[array([[False, False, False, False, False, False, False, False, False,\n",
       "         False],\n",
       "        [False, False, False, False, False, False, False, False, False,\n",
       "         False],\n",
       "        [False,  True,  True,  True,  True,  True,  True,  True,  True,\n",
       "          True],\n",
       "        [ True,  True,  True,  True,  True,  True,  True,  True,  True,\n",
       "          True],\n",
       "        [ True,  True,  True,  True,  True,  True,  True,  True,  True,\n",
       "          True]])]"
      ]
     },
     "execution_count": 78,
     "metadata": {},
     "output_type": "execute_result"
    }
   ],
   "source": [
    "new_new_array"
   ]
  },
  {
   "cell_type": "code",
   "execution_count": 80,
   "id": "38b8102b",
   "metadata": {},
   "outputs": [],
   "source": [
    "array = np.arange(11)"
   ]
  },
  {
   "cell_type": "code",
   "execution_count": 81,
   "id": "aef362a9",
   "metadata": {},
   "outputs": [
    {
     "data": {
      "text/plain": [
       "array([ 0,  1,  2,  3,  4,  5,  6,  7,  8,  9, 10])"
      ]
     },
     "execution_count": 81,
     "metadata": {},
     "output_type": "execute_result"
    }
   ],
   "source": [
    "array"
   ]
  },
  {
   "cell_type": "code",
   "execution_count": 88,
   "id": "406d2bba",
   "metadata": {},
   "outputs": [],
   "source": [
    "con_selc = array[array>4]"
   ]
  },
  {
   "cell_type": "code",
   "execution_count": 89,
   "id": "ddd118fb",
   "metadata": {},
   "outputs": [
    {
     "data": {
      "text/plain": [
       "array([ 5,  6,  7,  8,  9, 10])"
      ]
     },
     "execution_count": 89,
     "metadata": {},
     "output_type": "execute_result"
    }
   ],
   "source": [
    "con_selc"
   ]
  },
  {
   "cell_type": "code",
   "execution_count": 92,
   "id": "7bbf17bb",
   "metadata": {},
   "outputs": [],
   "source": [
    "reshaped = con_selc.reshape(2,3)"
   ]
  },
  {
   "cell_type": "code",
   "execution_count": 91,
   "id": "761bd861",
   "metadata": {},
   "outputs": [
    {
     "data": {
      "text/plain": [
       "array([ 5,  6,  7,  8,  9, 10])"
      ]
     },
     "execution_count": 91,
     "metadata": {},
     "output_type": "execute_result"
    }
   ],
   "source": [
    "con_selc"
   ]
  },
  {
   "cell_type": "code",
   "execution_count": 93,
   "id": "cef42240",
   "metadata": {},
   "outputs": [
    {
     "data": {
      "text/plain": [
       "array([[ 5,  6,  7],\n",
       "       [ 8,  9, 10]])"
      ]
     },
     "execution_count": 93,
     "metadata": {},
     "output_type": "execute_result"
    }
   ],
   "source": [
    "reshaped"
   ]
  },
  {
   "cell_type": "code",
   "execution_count": 95,
   "id": "cd6f7aa5",
   "metadata": {},
   "outputs": [],
   "source": [
    "copy = reshaped.copy()"
   ]
  },
  {
   "cell_type": "code",
   "execution_count": 96,
   "id": "3908240c",
   "metadata": {},
   "outputs": [
    {
     "data": {
      "text/plain": [
       "array([[ 5,  6,  7],\n",
       "       [ 8,  9, 10]])"
      ]
     },
     "execution_count": 96,
     "metadata": {},
     "output_type": "execute_result"
    }
   ],
   "source": [
    "copy"
   ]
  },
  {
   "cell_type": "code",
   "execution_count": 98,
   "id": "a17af252",
   "metadata": {},
   "outputs": [
    {
     "data": {
      "text/plain": [
       "dtype('int32')"
      ]
     },
     "execution_count": 98,
     "metadata": {},
     "output_type": "execute_result"
    }
   ],
   "source": [
    "copy.dtype"
   ]
  },
  {
   "cell_type": "code",
   "execution_count": 100,
   "id": "1199aec3",
   "metadata": {},
   "outputs": [
    {
     "data": {
      "text/plain": [
       "(2, 3)"
      ]
     },
     "execution_count": 100,
     "metadata": {},
     "output_type": "execute_result"
    }
   ],
   "source": [
    "copy.shape"
   ]
  },
  {
   "cell_type": "code",
   "execution_count": null,
   "id": "86f8635d",
   "metadata": {},
   "outputs": [],
   "source": []
  }
 ],
 "metadata": {
  "kernelspec": {
   "display_name": "Python 3 (ipykernel)",
   "language": "python",
   "name": "python3"
  },
  "language_info": {
   "codemirror_mode": {
    "name": "ipython",
    "version": 3
   },
   "file_extension": ".py",
   "mimetype": "text/x-python",
   "name": "python",
   "nbconvert_exporter": "python",
   "pygments_lexer": "ipython3",
   "version": "3.10.9"
  }
 },
 "nbformat": 4,
 "nbformat_minor": 5
}
