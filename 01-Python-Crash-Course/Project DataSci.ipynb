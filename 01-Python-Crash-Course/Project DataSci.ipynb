{
 "cells": [
  {
   "cell_type": "markdown",
   "id": "83c67206",
   "metadata": {},
   "source": [
    "# Project DataScience"
   ]
  },
  {
   "cell_type": "code",
   "execution_count": 204,
   "id": "06955475",
   "metadata": {},
   "outputs": [
    {
     "name": "stdout",
     "output_type": "stream",
     "text": [
      "Paste your sequence here!ACGTC\n"
     ]
    }
   ],
   "source": [
    "seq = str(input(\"Paste your sequence here!\"))"
   ]
  },
  {
   "cell_type": "code",
   "execution_count": 205,
   "id": "4b5bd58d",
   "metadata": {},
   "outputs": [],
   "source": [
    "for items in seq:\n",
    "    raw = list(seq)"
   ]
  },
  {
   "cell_type": "code",
   "execution_count": 206,
   "id": "869bd467",
   "metadata": {},
   "outputs": [
    {
     "name": "stdout",
     "output_type": "stream",
     "text": [
      "['A', 'C', 'G', 'T', 'C']\n"
     ]
    }
   ],
   "source": [
    "print(raw)"
   ]
  },
  {
   "cell_type": "code",
   "execution_count": 207,
   "id": "5c5f0a66",
   "metadata": {},
   "outputs": [],
   "source": [
    "def countA (seq):\n",
    "    count = 0\n",
    "    for A in seq:\n",
    "        if A == \"A\":\n",
    "            count += 1\n",
    "    return count\n",
    "    "
   ]
  },
  {
   "cell_type": "code",
   "execution_count": 208,
   "id": "f45a371a",
   "metadata": {},
   "outputs": [],
   "source": [
    "def countT (seq):\n",
    "    count = 0\n",
    "    for T in seq:\n",
    "        if T == \"T\":\n",
    "            count += 1\n",
    "    return count"
   ]
  },
  {
   "cell_type": "code",
   "execution_count": 209,
   "id": "3c71544e",
   "metadata": {},
   "outputs": [],
   "source": [
    "def countC (seq):\n",
    "    count = 0\n",
    "    for C in seq:\n",
    "        if C == \"C\":\n",
    "            count += 1\n",
    "    return count"
   ]
  },
  {
   "cell_type": "code",
   "execution_count": 210,
   "id": "9cd31075",
   "metadata": {},
   "outputs": [],
   "source": [
    "def countG (seq):\n",
    "    count = 0\n",
    "    for G in seq:\n",
    "        if G == \"G\":\n",
    "            count += 1\n",
    "    return count"
   ]
  },
  {
   "cell_type": "code",
   "execution_count": 219,
   "id": "163fb1d9",
   "metadata": {},
   "outputs": [
    {
     "name": "stdout",
     "output_type": "stream",
     "text": [
      "Inserted Sequence --> --ACGTC--\n",
      "--- 1 'A'\n",
      "--- 1 'T'\n",
      "--- 2 'C'\n",
      "--- 1 'G' \n",
      "Nucleotides are in your sequence!\n"
     ]
    }
   ],
   "source": [
    "print(f\"Inserted Sequence --> --{seq}--\")\n",
    "\n",
    "count_A = list(filter(lambda item: item == \"A\", raw))\n",
    "print(f\"--- {countA(raw)} 'A'\")\n",
    "\n",
    "\n",
    "count_T = list(filter(lambda item: item == \"T\", raw))\n",
    "print(f\"--- {countT(raw)} 'T'\")\n",
    "\n",
    "\n",
    "count_C = list(filter(lambda item: item == \"C\", raw))\n",
    "print(f\"--- {countC(raw)} 'C'\")\n",
    "\n",
    "\n",
    "count_G = list(filter(lambda item: item == \"G\", raw))\n",
    "print(f\"--- {countG(raw)} 'G' \\nNucleotides are in your sequence!\")\n"
   ]
  },
  {
   "cell_type": "code",
   "execution_count": null,
   "id": "0d7339d6",
   "metadata": {},
   "outputs": [],
   "source": []
  },
  {
   "cell_type": "code",
   "execution_count": null,
   "id": "a3aa3639",
   "metadata": {},
   "outputs": [],
   "source": []
  },
  {
   "cell_type": "code",
   "execution_count": null,
   "id": "93acf361",
   "metadata": {},
   "outputs": [],
   "source": []
  }
 ],
 "metadata": {
  "kernelspec": {
   "display_name": "Python 3 (ipykernel)",
   "language": "python",
   "name": "python3"
  },
  "language_info": {
   "codemirror_mode": {
    "name": "ipython",
    "version": 3
   },
   "file_extension": ".py",
   "mimetype": "text/x-python",
   "name": "python",
   "nbconvert_exporter": "python",
   "pygments_lexer": "ipython3",
   "version": "3.10.9"
  }
 },
 "nbformat": 4,
 "nbformat_minor": 5
}
