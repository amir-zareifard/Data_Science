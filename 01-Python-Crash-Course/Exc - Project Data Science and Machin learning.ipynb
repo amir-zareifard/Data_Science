{
 "cells": [
  {
   "cell_type": "code",
   "execution_count": 2,
   "id": "968ca4c2",
   "metadata": {},
   "outputs": [],
   "source": [
    "DNA_seq = [\"A, T, C, G, G, G, C, C, A, A, T, T\"]"
   ]
  },
  {
   "cell_type": "code",
   "execution_count": 7,
   "id": "a93079ca",
   "metadata": {},
   "outputs": [],
   "source": [
    "def DNAtoRNA (list):\n",
    "    for x in list:\n",
    "        return int(x)\n",
    "    print(x)"
   ]
  },
  {
   "cell_type": "code",
   "execution_count": 9,
   "id": "bba06aac",
   "metadata": {},
   "outputs": [
    {
     "ename": "TypeError",
     "evalue": "'bool' object is not iterable",
     "output_type": "error",
     "traceback": [
      "\u001b[1;31m---------------------------------------------------------------------------\u001b[0m",
      "\u001b[1;31mTypeError\u001b[0m                                 Traceback (most recent call last)",
      "Cell \u001b[1;32mIn[9], line 1\u001b[0m\n\u001b[1;32m----> 1\u001b[0m \u001b[43mDNAtoRNA\u001b[49m\u001b[43m(\u001b[49m\u001b[43mDNA_seq\u001b[49m\u001b[43m)\u001b[49m\n",
      "Cell \u001b[1;32mIn[7], line 2\u001b[0m, in \u001b[0;36mDNAtoRNA\u001b[1;34m(list)\u001b[0m\n\u001b[0;32m      1\u001b[0m \u001b[38;5;28;01mdef\u001b[39;00m \u001b[38;5;21mDNAtoRNA\u001b[39m (\u001b[38;5;28mlist\u001b[39m):\n\u001b[1;32m----> 2\u001b[0m     \u001b[38;5;28;01mfor\u001b[39;00m x \u001b[38;5;129;01min\u001b[39;00m \u001b[38;5;28mlist\u001b[39m \u001b[38;5;241m==\u001b[39m \u001b[38;5;124m'\u001b[39m\u001b[38;5;124mA\u001b[39m\u001b[38;5;124m'\u001b[39m:\n\u001b[0;32m      3\u001b[0m         \u001b[38;5;28;01mreturn\u001b[39;00m \u001b[38;5;28mint\u001b[39m(x)\n\u001b[0;32m      4\u001b[0m     \u001b[38;5;28mprint\u001b[39m(x)\n",
      "\u001b[1;31mTypeError\u001b[0m: 'bool' object is not iterable"
     ]
    }
   ],
   "source": [
    "DNA"
   ]
  },
  {
   "cell_type": "code",
   "execution_count": null,
   "id": "3c985ac6",
   "metadata": {},
   "outputs": [],
   "source": []
  }
 ],
 "metadata": {
  "kernelspec": {
   "display_name": "Python 3 (ipykernel)",
   "language": "python",
   "name": "python3"
  },
  "language_info": {
   "codemirror_mode": {
    "name": "ipython",
    "version": 3
   },
   "file_extension": ".py",
   "mimetype": "text/x-python",
   "name": "python",
   "nbconvert_exporter": "python",
   "pygments_lexer": "ipython3",
   "version": "3.10.9"
  }
 },
 "nbformat": 4,
 "nbformat_minor": 5
}
